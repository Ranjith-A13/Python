{
  "nbformat": 4,
  "nbformat_minor": 0,
  "metadata": {
    "colab": {
      "provenance": [],
      "authorship_tag": "ABX9TyMTC7MYhvG1ithvC7WGl3ew",
      "include_colab_link": true
    },
    "kernelspec": {
      "name": "python3",
      "display_name": "Python 3"
    },
    "language_info": {
      "name": "python"
    }
  },
  "cells": [
    {
      "cell_type": "markdown",
      "metadata": {
        "id": "view-in-github",
        "colab_type": "text"
      },
      "source": [
        "<a href=\"https://colab.research.google.com/github/Ranjith-A13/Python/blob/main/Association_Rules_.ipynb\" target=\"_parent\"><img src=\"https://colab.research.google.com/assets/colab-badge.svg\" alt=\"Open In Colab\"/></a>"
      ]
    },
    {
      "cell_type": "code",
      "source": [
        "pip install pandas mlxtend openpyxl\n"
      ],
      "metadata": {
        "colab": {
          "base_uri": "https://localhost:8080/"
        },
        "id": "XYcXXsz8GTEb",
        "outputId": "8cd85f76-a09d-4cfa-f93e-62c439ebfb93"
      },
      "execution_count": 5,
      "outputs": [
        {
          "output_type": "stream",
          "name": "stdout",
          "text": [
            "Requirement already satisfied: pandas in /usr/local/lib/python3.11/dist-packages (2.2.2)\n",
            "Requirement already satisfied: mlxtend in /usr/local/lib/python3.11/dist-packages (0.23.4)\n",
            "Requirement already satisfied: openpyxl in /usr/local/lib/python3.11/dist-packages (3.1.5)\n",
            "Requirement already satisfied: numpy>=1.23.2 in /usr/local/lib/python3.11/dist-packages (from pandas) (2.0.2)\n",
            "Requirement already satisfied: python-dateutil>=2.8.2 in /usr/local/lib/python3.11/dist-packages (from pandas) (2.9.0.post0)\n",
            "Requirement already satisfied: pytz>=2020.1 in /usr/local/lib/python3.11/dist-packages (from pandas) (2025.2)\n",
            "Requirement already satisfied: tzdata>=2022.7 in /usr/local/lib/python3.11/dist-packages (from pandas) (2025.2)\n",
            "Requirement already satisfied: scipy>=1.2.1 in /usr/local/lib/python3.11/dist-packages (from mlxtend) (1.15.2)\n",
            "Requirement already satisfied: scikit-learn>=1.3.1 in /usr/local/lib/python3.11/dist-packages (from mlxtend) (1.6.1)\n",
            "Requirement already satisfied: matplotlib>=3.0.0 in /usr/local/lib/python3.11/dist-packages (from mlxtend) (3.10.0)\n",
            "Requirement already satisfied: joblib>=0.13.2 in /usr/local/lib/python3.11/dist-packages (from mlxtend) (1.4.2)\n",
            "Requirement already satisfied: et-xmlfile in /usr/local/lib/python3.11/dist-packages (from openpyxl) (2.0.0)\n",
            "Requirement already satisfied: contourpy>=1.0.1 in /usr/local/lib/python3.11/dist-packages (from matplotlib>=3.0.0->mlxtend) (1.3.2)\n",
            "Requirement already satisfied: cycler>=0.10 in /usr/local/lib/python3.11/dist-packages (from matplotlib>=3.0.0->mlxtend) (0.12.1)\n",
            "Requirement already satisfied: fonttools>=4.22.0 in /usr/local/lib/python3.11/dist-packages (from matplotlib>=3.0.0->mlxtend) (4.57.0)\n",
            "Requirement already satisfied: kiwisolver>=1.3.1 in /usr/local/lib/python3.11/dist-packages (from matplotlib>=3.0.0->mlxtend) (1.4.8)\n",
            "Requirement already satisfied: packaging>=20.0 in /usr/local/lib/python3.11/dist-packages (from matplotlib>=3.0.0->mlxtend) (24.2)\n",
            "Requirement already satisfied: pillow>=8 in /usr/local/lib/python3.11/dist-packages (from matplotlib>=3.0.0->mlxtend) (11.2.1)\n",
            "Requirement already satisfied: pyparsing>=2.3.1 in /usr/local/lib/python3.11/dist-packages (from matplotlib>=3.0.0->mlxtend) (3.2.3)\n",
            "Requirement already satisfied: six>=1.5 in /usr/local/lib/python3.11/dist-packages (from python-dateutil>=2.8.2->pandas) (1.17.0)\n",
            "Requirement already satisfied: threadpoolctl>=3.1.0 in /usr/local/lib/python3.11/dist-packages (from scikit-learn>=1.3.1->mlxtend) (3.6.0)\n"
          ]
        }
      ]
    },
    {
      "cell_type": "code",
      "source": [
        "import pandas as pd\n",
        "from mlxtend.preprocessing import TransactionEncoder\n",
        "from mlxtend.frequent_patterns import apriori, association_rules\n",
        "\n",
        "# Load the dataset\n",
        "df = pd.read_excel(\"Online retail.xlsx\")\n",
        "\n",
        "# Convert each transaction string to a list\n",
        "transactions = df.iloc[:, 0].apply(lambda x: x.split(','))\n",
        "\n",
        "# One-hot encode\n",
        "te = TransactionEncoder()\n",
        "te_ary = te.fit(transactions).transform(transactions)\n",
        "df_encoded = pd.DataFrame(te_ary, columns=te.columns_)\n",
        "\n",
        "# Apply Apriori\n",
        "frequent_itemsets = apriori(df_encoded, min_support=0.02, use_colnames=True)\n",
        "\n",
        "# Generate association rules\n",
        "rules = association_rules(frequent_itemsets, metric=\"lift\", min_threshold=1.0)\n",
        "\n",
        "# Filter rules\n",
        "filtered_rules = rules[(rules['confidence'] >= 0.3) & (rules['lift'] > 1)]\n",
        "\n",
        "# Display top rules\n",
        "print(filtered_rules.sort_values(by=\"lift\", ascending=False).head(10))\n",
        "\n",
        "# Display top 10 rules sorted by lift\n",
        "print(filtered_rules.sort_values(by=\"lift\", ascending=False).head(10))\n",
        "\n",
        "filtered_rules = rules[(rules['confidence'] >= 0.3) & (rules['lift'] > 1)]\n"
      ],
      "metadata": {
        "colab": {
          "base_uri": "https://localhost:8080/"
        },
        "id": "IdL-5JoQGYfH",
        "outputId": "29f00055-959f-4952-8183-47b9d83583c8"
      },
      "execution_count": 8,
      "outputs": [
        {
          "output_type": "stream",
          "name": "stdout",
          "text": [
            "            antecedents      consequents  antecedent support  \\\n",
            "67        (ground beef)      (spaghetti)            0.098267   \n",
            "89          (olive oil)      (spaghetti)            0.065733   \n",
            "81               (soup)  (mineral water)            0.050533   \n",
            "1             (burgers)           (eggs)            0.087200   \n",
            "94           (tomatoes)      (spaghetti)            0.068400   \n",
            "74          (olive oil)  (mineral water)            0.065733   \n",
            "65        (ground beef)  (mineral water)            0.098267   \n",
            "29        (cooking oil)  (mineral water)            0.051067   \n",
            "10            (chicken)  (mineral water)            0.060000   \n",
            "56  (frozen vegetables)  (mineral water)            0.095333   \n",
            "\n",
            "    consequent support   support  confidence      lift  representativity  \\\n",
            "67            0.174133  0.039200    0.398915  2.290857               1.0   \n",
            "89            0.174133  0.022933    0.348884  2.003547               1.0   \n",
            "81            0.238267  0.023067    0.456464  1.915771               1.0   \n",
            "1             0.179733  0.028800    0.330275  1.837585               1.0   \n",
            "94            0.174133  0.020933    0.306043  1.757520               1.0   \n",
            "74            0.238267  0.027467    0.417850  1.753707               1.0   \n",
            "65            0.238267  0.040933    0.416554  1.748266               1.0   \n",
            "29            0.238267  0.020133    0.394256  1.654683               1.0   \n",
            "10            0.238267  0.022800    0.380000  1.594852               1.0   \n",
            "56            0.238267  0.035733    0.374825  1.573133               1.0   \n",
            "\n",
            "    leverage  conviction  zhangs_metric   jaccard  certainty  kulczynski  \n",
            "67  0.022088    1.373959       0.624888  0.168096   0.272176    0.312015  \n",
            "89  0.011487    1.268387       0.536127  0.105716   0.211597    0.240292  \n",
            "81  0.011026    1.401441       0.503458  0.086804   0.286449    0.276637  \n",
            "1   0.013127    1.224782       0.499351  0.120941   0.183528    0.245256  \n",
            "94  0.009023    1.190083       0.462663  0.094465   0.159723    0.213129  \n",
            "74  0.011805    1.308483       0.460018  0.099325   0.235756    0.266563  \n",
            "65  0.017520    1.305576       0.474647  0.138475   0.234054    0.294175  \n",
            "29  0.007966    1.257517       0.416947  0.074789   0.204782    0.239378  \n",
            "10  0.008504    1.228602       0.396790  0.082769   0.186067    0.237846  \n",
            "56  0.013019    1.218433       0.402718  0.119964   0.179273    0.262399  \n",
            "            antecedents      consequents  antecedent support  \\\n",
            "67        (ground beef)      (spaghetti)            0.098267   \n",
            "89          (olive oil)      (spaghetti)            0.065733   \n",
            "81               (soup)  (mineral water)            0.050533   \n",
            "1             (burgers)           (eggs)            0.087200   \n",
            "94           (tomatoes)      (spaghetti)            0.068400   \n",
            "74          (olive oil)  (mineral water)            0.065733   \n",
            "65        (ground beef)  (mineral water)            0.098267   \n",
            "29        (cooking oil)  (mineral water)            0.051067   \n",
            "10            (chicken)  (mineral water)            0.060000   \n",
            "56  (frozen vegetables)  (mineral water)            0.095333   \n",
            "\n",
            "    consequent support   support  confidence      lift  representativity  \\\n",
            "67            0.174133  0.039200    0.398915  2.290857               1.0   \n",
            "89            0.174133  0.022933    0.348884  2.003547               1.0   \n",
            "81            0.238267  0.023067    0.456464  1.915771               1.0   \n",
            "1             0.179733  0.028800    0.330275  1.837585               1.0   \n",
            "94            0.174133  0.020933    0.306043  1.757520               1.0   \n",
            "74            0.238267  0.027467    0.417850  1.753707               1.0   \n",
            "65            0.238267  0.040933    0.416554  1.748266               1.0   \n",
            "29            0.238267  0.020133    0.394256  1.654683               1.0   \n",
            "10            0.238267  0.022800    0.380000  1.594852               1.0   \n",
            "56            0.238267  0.035733    0.374825  1.573133               1.0   \n",
            "\n",
            "    leverage  conviction  zhangs_metric   jaccard  certainty  kulczynski  \n",
            "67  0.022088    1.373959       0.624888  0.168096   0.272176    0.312015  \n",
            "89  0.011487    1.268387       0.536127  0.105716   0.211597    0.240292  \n",
            "81  0.011026    1.401441       0.503458  0.086804   0.286449    0.276637  \n",
            "1   0.013127    1.224782       0.499351  0.120941   0.183528    0.245256  \n",
            "94  0.009023    1.190083       0.462663  0.094465   0.159723    0.213129  \n",
            "74  0.011805    1.308483       0.460018  0.099325   0.235756    0.266563  \n",
            "65  0.017520    1.305576       0.474647  0.138475   0.234054    0.294175  \n",
            "29  0.007966    1.257517       0.416947  0.074789   0.204782    0.239378  \n",
            "10  0.008504    1.228602       0.396790  0.082769   0.186067    0.237846  \n",
            "56  0.013019    1.218433       0.402718  0.119964   0.179273    0.262399  \n"
          ]
        }
      ]
    },
    {
      "cell_type": "code",
      "source": [],
      "metadata": {
        "id": "_4eZNRkuGi5R"
      },
      "execution_count": null,
      "outputs": []
    }
  ]
}