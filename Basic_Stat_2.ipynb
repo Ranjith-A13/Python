{
  "nbformat": 4,
  "nbformat_minor": 0,
  "metadata": {
    "colab": {
      "provenance": []
    },
    "kernelspec": {
      "name": "python3",
      "display_name": "Python 3"
    },
    "language_info": {
      "name": "python"
    }
  },
  "cells": [
    {
      "cell_type": "code",
      "execution_count": 1,
      "metadata": {
        "colab": {
          "base_uri": "https://localhost:8080/"
        },
        "id": "-3PvWf92BHew",
        "outputId": "1c034160-0ced-499c-d982-7a34982407de"
      },
      "outputs": [
        {
          "output_type": "execute_result",
          "data": {
            "text/plain": [
              "(np.float64(1.2386666666666666),\n",
              " np.float64(0.19316412956959936),\n",
              " np.float64(2.976842734370834),\n",
              " (np.float64(1.0901973384384906), np.float64(1.3871359948948425)))"
            ]
          },
          "metadata": {},
          "execution_count": 1
        }
      ],
      "source": [
        "import numpy as np\n",
        "from scipy import stats\n",
        "\n",
        "# Sample data\n",
        "data = [1.13, 1.55, 1.43, 0.92, 1.25, 1.36, 1.32, 0.85, 1.07, 1.48, 1.20, 1.33, 1.18, 1.22, 1.29]\n",
        "\n",
        "# Sample size\n",
        "n = len(data)\n",
        "\n",
        "# Mean and standard deviation\n",
        "sample_mean = np.mean(data)\n",
        "sample_std = np.std(data, ddof=1)  # Sample standard deviation\n",
        "\n",
        "# Degrees of freedom\n",
        "df = n - 1\n",
        "\n",
        "# t critical value for 99% confidence\n",
        "t_critical = stats.t.ppf(1 - 0.005, df)\n",
        "\n",
        "# Margin of error\n",
        "margin_error = t_critical * (sample_std / np.sqrt(n))\n",
        "\n",
        "# Confidence interval\n",
        "lower = sample_mean - margin_error\n",
        "upper = sample_mean + margin_error\n",
        "\n",
        "sample_mean, sample_std, t_critical, (lower, upper)\n"
      ]
    }
  ]
}