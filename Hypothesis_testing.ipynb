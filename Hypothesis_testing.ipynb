{
  "nbformat": 4,
  "nbformat_minor": 0,
  "metadata": {
    "colab": {
      "provenance": []
    },
    "kernelspec": {
      "name": "python3",
      "display_name": "Python 3"
    },
    "language_info": {
      "name": "python"
    }
  },
  "cells": [
    {
      "cell_type": "code",
      "execution_count": null,
      "metadata": {
        "id": "JgZJ5isDm59c"
      },
      "outputs": [],
      "source": [
        "# 1. State the Hypotheses\n",
        "#Null Hypothesis (H₀): There is no association between device type (Smart Thermostat or Smart Light) and customer satisfaction level. They are independent.\n",
        "\n",
        "#Alternative Hypothesis (H₁): There is an association between device type and customer satisfaction level. They are not independent.\n",
        "\n"
      ]
    },
    {
      "cell_type": "code",
      "source": [
        "import numpy as np\n",
        "import scipy.stats as stats\n",
        "\n",
        "# Observed frequencies\n",
        "observed = np.array([\n",
        "    [50, 70],\n",
        "    [80, 100],\n",
        "    [60, 90],\n",
        "    [30, 50],\n",
        "    [20, 50]\n",
        "])\n",
        "\n",
        "# Perform Chi-Square test\n",
        "chi2_stat, p_value, dof, expected = stats.chi2_contingency(observed)\n",
        "\n",
        "# Output results\n",
        "print(\"Chi-Square Statistic:\", round(chi2_stat, 2))\n",
        "print(\"Degrees of Freedom:\", dof)\n",
        "print(\"P-Value:\", round(p_value, 4))\n",
        "print(\"\\nExpected Frequencies:\\n\", expected)\n"
      ],
      "metadata": {
        "colab": {
          "base_uri": "https://localhost:8080/"
        },
        "id": "5jGj6yQSnKG3",
        "outputId": "b00df06b-bf03-4c0b-df41-19f87036a05c"
      },
      "execution_count": 1,
      "outputs": [
        {
          "output_type": "stream",
          "name": "stdout",
          "text": [
            "Chi-Square Statistic: 5.64\n",
            "Degrees of Freedom: 4\n",
            "P-Value: 0.2278\n",
            "\n",
            "Expected Frequencies:\n",
            " [[ 48.  72.]\n",
            " [ 72. 108.]\n",
            " [ 60.  90.]\n",
            " [ 32.  48.]\n",
            " [ 28.  42.]]\n"
          ]
        }
      ]
    },
    {
      "cell_type": "code",
      "source": [
        "\"\"\"\n",
        "Chi-Square Test of Independence\n",
        "Assignment: Association between Device Type and Customer Satisfaction\n",
        "Author: [Your Name]\n",
        "Date: [Current Date]\n",
        "\"\"\"\n",
        "\n",
        "import numpy as np\n",
        "import scipy.stats as stats\n",
        "\n",
        "# -------------------------------\n",
        "# 1. State the Hypotheses\n",
        "# -------------------------------\n",
        "# H0 (Null Hypothesis): There is no association between device type and customer satisfaction.\n",
        "# H1 (Alternative Hypothesis): There is an association between device type and customer satisfaction.\n",
        "\n",
        "# -------------------------------\n",
        "# 2. Observed Frequencies Table\n",
        "# -------------------------------\n",
        "# Satisfaction       | Smart Thermostat | Smart Light\n",
        "# ---------------------------------------------------\n",
        "# Very Satisfied     | 50               | 70\n",
        "# Satisfied          | 80               | 100\n",
        "# Neutral            | 60               | 90\n",
        "# Unsatisfied        | 30               | 50\n",
        "# Very Unsatisfied   | 20               | 50\n",
        "\n",
        "observed = np.array([\n",
        "    [50, 70],\n",
        "    [80, 100],\n",
        "    [60, 90],\n",
        "    [30, 50],\n",
        "    [20, 50]\n",
        "])\n",
        "\n",
        "# -------------------------------\n",
        "# 3. Compute Chi-Square Statistic\n",
        "# -------------------------------\n",
        "chi2_stat, p_value, dof, expected = stats.chi2_contingency(observed)\n",
        "\n",
        "# -------------------------------\n",
        "# 4. Determine Critical Value\n",
        "# -------------------------------\n",
        "alpha = 0.05\n",
        "critical_value = stats.chi2.ppf(q=1 - alpha, df=dof)\n",
        "\n",
        "# -------------------------------\n",
        "# 5. Make a Decision\n",
        "# -------------------------------\n",
        "print(\"Chi-Square Test for Independence\\n\")\n",
        "print(\"Observed Frequencies:\\n\", observed)\n",
        "print(\"\\nExpected Frequencies:\\n\", np.round(expected, 2))\n",
        "print(f\"\\nDegrees of Freedom: {dof}\")\n",
        "print(f\"Significance Level (alpha): {alpha}\")\n",
        "print(f\"Chi-Square Statistic: {chi2_stat:.2f}\")\n",
        "print(f\"Critical Value: {critical_value:.2f}\")\n",
        "print(f\"P-Value: {p_value:.4f}\")\n",
        "\n",
        "# Decision\n",
        "if chi2_stat > critical_value:\n",
        "    print(\"\\nConclusion: Reject the null hypothesis.\")\n",
        "    print(\"There IS a significant association between device type and customer satisfaction.\")\n",
        "else:\n",
        "    print(\"\\nConclusion: Fail to reject the null hypothesis.\")\n",
        "    print(\"There is NO significant association between device type and customer satisfaction.\")\n"
      ],
      "metadata": {
        "colab": {
          "base_uri": "https://localhost:8080/"
        },
        "id": "FXnI9TosnYwM",
        "outputId": "5676273f-e9f5-4a88-99db-e65c432976ec"
      },
      "execution_count": 2,
      "outputs": [
        {
          "output_type": "stream",
          "name": "stdout",
          "text": [
            "Chi-Square Test for Independence\n",
            "\n",
            "Observed Frequencies:\n",
            " [[ 50  70]\n",
            " [ 80 100]\n",
            " [ 60  90]\n",
            " [ 30  50]\n",
            " [ 20  50]]\n",
            "\n",
            "Expected Frequencies:\n",
            " [[ 48.  72.]\n",
            " [ 72. 108.]\n",
            " [ 60.  90.]\n",
            " [ 32.  48.]\n",
            " [ 28.  42.]]\n",
            "\n",
            "Degrees of Freedom: 4\n",
            "Significance Level (alpha): 0.05\n",
            "Chi-Square Statistic: 5.64\n",
            "Critical Value: 9.49\n",
            "P-Value: 0.2278\n",
            "\n",
            "Conclusion: Fail to reject the null hypothesis.\n",
            "There is NO significant association between device type and customer satisfaction.\n"
          ]
        }
      ]
    },
    {
      "cell_type": "code",
      "source": [
        "import math\n",
        "from scipy.stats import norm\n",
        "\n",
        "# Given data\n",
        "sample_mean = 3050\n",
        "theoretical_mean = 1000 + 5 * 600  # = 4000\n",
        "sigma = 5 * 25  # = 125\n",
        "n = 25\n",
        "\n",
        "# Calculate Z-test statistic\n",
        "z = (sample_mean - theoretical_mean) / (sigma / math.sqrt(n))\n",
        "print(f\"Z-Test Statistic: {z:.2f}\")\n",
        "\n",
        "# Critical value for one-tailed test at α = 0.05\n",
        "alpha = 0.05\n",
        "z_critical = norm.ppf(1 - alpha)\n",
        "print(f\"Critical Value (Zα): {z_critical:.2f}\")\n",
        "\n",
        "# Decision\n",
        "if z > z_critical:\n",
        "    print(\"Reject the null hypothesis: There is evidence that weekly costs have increased.\")\n",
        "else:\n",
        "    print(\"Fail to reject the null hypothesis: No evidence that weekly costs have increased.\")\n"
      ],
      "metadata": {
        "colab": {
          "base_uri": "https://localhost:8080/"
        },
        "id": "uhCgddUDn56W",
        "outputId": "fa8dc3ea-a70a-40c5-e7e0-62d6e97a2aa6"
      },
      "execution_count": 3,
      "outputs": [
        {
          "output_type": "stream",
          "name": "stdout",
          "text": [
            "Z-Test Statistic: -38.00\n",
            "Critical Value (Zα): 1.64\n",
            "Fail to reject the null hypothesis: No evidence that weekly costs have increased.\n"
          ]
        }
      ]
    }
  ]
}