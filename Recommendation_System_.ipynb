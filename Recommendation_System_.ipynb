{
  "nbformat": 4,
  "nbformat_minor": 0,
  "metadata": {
    "colab": {
      "provenance": [],
      "authorship_tag": "ABX9TyNTxx2YrlZszdVgud3OPGvl",
      "include_colab_link": true
    },
    "kernelspec": {
      "name": "python3",
      "display_name": "Python 3"
    },
    "language_info": {
      "name": "python"
    }
  },
  "cells": [
    {
      "cell_type": "markdown",
      "metadata": {
        "id": "view-in-github",
        "colab_type": "text"
      },
      "source": [
        "<a href=\"https://colab.research.google.com/github/Ranjith-A13/Python/blob/main/Recommendation_System_.ipynb\" target=\"_parent\"><img src=\"https://colab.research.google.com/assets/colab-badge.svg\" alt=\"Open In Colab\"/></a>"
      ]
    },
    {
      "cell_type": "code",
      "execution_count": 1,
      "metadata": {
        "colab": {
          "base_uri": "https://localhost:8080/"
        },
        "id": "7hwf8Mj72WNH",
        "outputId": "25bcc76f-6bfd-4ae9-86ab-f42a6aba2a8f"
      },
      "outputs": [
        {
          "output_type": "stream",
          "name": "stdout",
          "text": [
            "   anime_id                              name  \\\n",
            "0     32281                    Kimi no Na wa.   \n",
            "1      5114  Fullmetal Alchemist: Brotherhood   \n",
            "2     28977                          Gintama°   \n",
            "3      9253                       Steins;Gate   \n",
            "4      9969                     Gintama&#039;   \n",
            "\n",
            "                                               genre   type episodes  rating  \\\n",
            "0               Drama, Romance, School, Supernatural  Movie        1    9.37   \n",
            "1  Action, Adventure, Drama, Fantasy, Magic, Mili...     TV       64    9.26   \n",
            "2  Action, Comedy, Historical, Parody, Samurai, S...     TV       51    9.25   \n",
            "3                                   Sci-Fi, Thriller     TV       24    9.17   \n",
            "4  Action, Comedy, Historical, Parody, Samurai, S...     TV       51    9.16   \n",
            "\n",
            "   members  \n",
            "0   200630  \n",
            "1   793665  \n",
            "2   114262  \n",
            "3   673572  \n",
            "4   151266  \n",
            "<class 'pandas.core.frame.DataFrame'>\n",
            "RangeIndex: 12294 entries, 0 to 12293\n",
            "Data columns (total 7 columns):\n",
            " #   Column    Non-Null Count  Dtype  \n",
            "---  ------    --------------  -----  \n",
            " 0   anime_id  12294 non-null  int64  \n",
            " 1   name      12294 non-null  object \n",
            " 2   genre     12232 non-null  object \n",
            " 3   type      12269 non-null  object \n",
            " 4   episodes  12294 non-null  object \n",
            " 5   rating    12064 non-null  float64\n",
            " 6   members   12294 non-null  int64  \n",
            "dtypes: float64(1), int64(2), object(4)\n",
            "memory usage: 672.5+ KB\n",
            "None\n"
          ]
        }
      ],
      "source": [
        "import pandas as pd\n",
        "\n",
        "df = pd.read_csv(\"anime.csv\")\n",
        "print(df.head())\n",
        "print(df.info())"
      ]
    },
    {
      "cell_type": "code",
      "source": [
        "# Fill missing genres with 'Unknown'\n",
        "df['genre'] = df['genre'].fillna('Unknown')\n",
        "\n",
        "# Fill missing ratings with the mean rating\n",
        "df['rating'] = df['rating'].fillna(df['rating'].mean())\n",
        "\n",
        "# Convert episodes to numeric and fill missing with median\n",
        "df['episodes'] = pd.to_numeric(df['episodes'], errors='coerce')\n",
        "df['episodes'] = df['episodes'].fillna(df['episodes'].median())\n",
        "\n",
        "from sklearn.feature_extraction.text import TfidfVectorizer\n",
        "from sklearn.preprocessing import MinMaxScaler\n",
        "from sklearn.metrics.pairwise import cosine_similarity\n",
        "import numpy as np\n",
        "\n",
        "# TF-IDF on genres\n",
        "tfidf = TfidfVectorizer(stop_words='english')\n",
        "tfidf_matrix = tfidf.fit_transform(df['genre'])\n",
        "\n",
        "# Normalize ratings\n",
        "scaler = MinMaxScaler()\n",
        "rating_scaled = scaler.fit_transform(df[['rating']])\n",
        "\n",
        "# Combine features (TF-IDF genre + rating)\n",
        "from scipy.sparse import hstack\n",
        "features = hstack([tfidf_matrix, rating_scaled])\n",
        "\n",
        "# Compute cosine similarity\n",
        "cosine_sim = cosine_similarity(features, features)\n",
        "\n",
        "# Function to recommend anime\n",
        "def recommend_anime(title, cosine_sim=cosine_sim, df=df, top_n=5):\n",
        "    idx = df[df['name'] == title].index\n",
        "    if len(idx) == 0:\n",
        "        return \"Anime not found.\"\n",
        "    idx = idx[0]\n",
        "    sim_scores = list(enumerate(cosine_sim[idx]))\n",
        "    sim_scores = sorted(sim_scores, key=lambda x: x[1], reverse=True)\n",
        "    sim_scores = sim_scores[1:top_n+1]  # Skip the input anime itself\n",
        "    anime_indices = [i[0] for i in sim_scores]\n",
        "    return df['name'].iloc[anime_indices]\n",
        "\n",
        "# Example usage\n",
        "print(recommend_anime(\"Naruto\"))\n"
      ],
      "metadata": {
        "colab": {
          "base_uri": "https://localhost:8080/"
        },
        "id": "b7lsQvkd5Z7o",
        "outputId": "4f8c0670-c5a1-489b-fd56-b0203d5f9592"
      },
      "execution_count": 6,
      "outputs": [
        {
          "output_type": "stream",
          "name": "stdout",
          "text": [
            "615                                    Naruto: Shippuuden\n",
            "1103    Boruto: Naruto the Movie - Naruto ga Hokage ni...\n",
            "486                              Boruto: Naruto the Movie\n",
            "1343                                          Naruto x UT\n",
            "1472          Naruto: Shippuuden Movie 4 - The Lost Tower\n",
            "Name: name, dtype: object\n"
          ]
        }
      ]
    }
  ]
}