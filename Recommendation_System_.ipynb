{
  "nbformat": 4,
  "nbformat_minor": 0,
  "metadata": {
    "colab": {
      "provenance": []
    },
    "kernelspec": {
      "name": "python3",
      "display_name": "Python 3"
    },
    "language_info": {
      "name": "python"
    }
  },
  "cells": [
    {
      "cell_type": "code",
      "execution_count": 1,
      "metadata": {
        "colab": {
          "base_uri": "https://localhost:8080/"
        },
        "id": "7hwf8Mj72WNH",
        "outputId": "97a0be77-f9da-457e-e12e-b3cff2d7f08a"
      },
      "outputs": [
        {
          "output_type": "stream",
          "name": "stdout",
          "text": [
            "   anime_id                              name  \\\n",
            "0     32281                    Kimi no Na wa.   \n",
            "1      5114  Fullmetal Alchemist: Brotherhood   \n",
            "2     28977                          Gintama°   \n",
            "3      9253                       Steins;Gate   \n",
            "4      9969                     Gintama&#039;   \n",
            "\n",
            "                                               genre   type episodes  rating  \\\n",
            "0               Drama, Romance, School, Supernatural  Movie        1    9.37   \n",
            "1  Action, Adventure, Drama, Fantasy, Magic, Mili...     TV       64    9.26   \n",
            "2  Action, Comedy, Historical, Parody, Samurai, S...     TV       51    9.25   \n",
            "3                                   Sci-Fi, Thriller     TV       24    9.17   \n",
            "4  Action, Comedy, Historical, Parody, Samurai, S...     TV       51    9.16   \n",
            "\n",
            "   members  \n",
            "0   200630  \n",
            "1   793665  \n",
            "2   114262  \n",
            "3   673572  \n",
            "4   151266  \n",
            "<class 'pandas.core.frame.DataFrame'>\n",
            "RangeIndex: 12294 entries, 0 to 12293\n",
            "Data columns (total 7 columns):\n",
            " #   Column    Non-Null Count  Dtype  \n",
            "---  ------    --------------  -----  \n",
            " 0   anime_id  12294 non-null  int64  \n",
            " 1   name      12294 non-null  object \n",
            " 2   genre     12232 non-null  object \n",
            " 3   type      12269 non-null  object \n",
            " 4   episodes  12294 non-null  object \n",
            " 5   rating    12064 non-null  float64\n",
            " 6   members   12294 non-null  int64  \n",
            "dtypes: float64(1), int64(2), object(4)\n",
            "memory usage: 672.5+ KB\n",
            "None\n"
          ]
        }
      ],
      "source": [
        "import pandas as pd\n",
        "\n",
        "df = pd.read_csv(\"anime.csv\")\n",
        "print(df.head())\n",
        "print(df.info())"
      ]
    },
    {
      "cell_type": "code",
      "source": [
        "# Handle missing values (dropna since <5% missing)\n",
        "df = df.dropna(subset=['genre', 'rating', 'type'])"
      ],
      "metadata": {
        "id": "b7lsQvkd5Z7o"
      },
      "execution_count": 2,
      "outputs": []
    },
    {
      "cell_type": "code",
      "source": [
        "# Convert episodes to numeric (coerce errors to NaN then drop)\n",
        "df['episodes'] = pd.to_numeric(df['episodes'], errors='coerce')\n",
        "df = df.dropna(subset=['episodes'])"
      ],
      "metadata": {
        "id": "eXMrqtg2DjE1"
      },
      "execution_count": 6,
      "outputs": []
    },
    {
      "cell_type": "code",
      "source": [
        "# TF-IDF on genres (no need for additional scaling)\n",
        "from sklearn.feature_extraction.text import TfidfVectorizer\n",
        "\n",
        "tfidf = TfidfVectorizer(stop_words='english')\n",
        "tfidf_matrix = tfidf.fit_transform(df['genre'])"
      ],
      "metadata": {
        "id": "T5KPDZ6UDloO"
      },
      "execution_count": 7,
      "outputs": []
    },
    {
      "cell_type": "code",
      "source": [
        "# Combine features (TF-IDF genre + normalized rating)\n",
        "from scipy.sparse import hstack\n",
        "\n",
        "rating_normalized = df['rating'].values.reshape(-1, 1) / 10  # Scale 0-10 to 0-1\n",
        "features = hstack([tfidf_matrix, rating_normalized])"
      ],
      "metadata": {
        "id": "uJf3wdbKEM03"
      },
      "execution_count": 9,
      "outputs": []
    },
    {
      "cell_type": "code",
      "source": [
        "# Compute cosine similarity\n",
        "from sklearn.metrics.pairwise import cosine_similarity\n",
        "\n",
        "cosine_sim = cosine_similarity(features, features)"
      ],
      "metadata": {
        "id": "igL6QHJkEUTU"
      },
      "execution_count": 11,
      "outputs": []
    },
    {
      "cell_type": "code",
      "source": [
        "# Recommendation function\n",
        "def recommend_anime(title, cosine_sim=cosine_sim, df=df, top_n=5):\n",
        "    try:\n",
        "        idx = df[df['name'].str.lower() == title.lower()].index[0]\n",
        "        sim_scores = list(enumerate(cosine_sim[idx]))\n",
        "        sim_scores = sorted(sim_scores, key=lambda x: x[1], reverse=True)\n",
        "        sim_scores = sim_scores[1:top_n+1]  # Skip the input anime itself\n",
        "        anime_indices = [i[0] for i in sim_scores]\n",
        "        return df[['name', 'genre', 'rating']].iloc[anime_indices]\n",
        "    except IndexError:\n",
        "        return f\"Anime '{title}' not found in database.\"\n",
        "    except Exception as e:\n",
        "        return f\"Error occurred: {str(e)}\""
      ],
      "metadata": {
        "id": "YU4GEnrWEdhS"
      },
      "execution_count": 12,
      "outputs": []
    },
    {
      "cell_type": "code",
      "source": [
        "# Example usage\n",
        "print(recommend_anime(\"Naruto\"))"
      ],
      "metadata": {
        "colab": {
          "base_uri": "https://localhost:8080/"
        },
        "id": "E0a5K2uYEedQ",
        "outputId": "e9b0f707-bce0-4b91-b41e-a702f2b98423"
      },
      "execution_count": 13,
      "outputs": [
        {
          "output_type": "stream",
          "name": "stdout",
          "text": [
            "                                                   name  \\\n",
            "4540                                 Trava: Fist Planet   \n",
            "1906  Mobile Suit Gundam 00 The Movie: A Wakening of...   \n",
            "2130               Super Robot Taisen OG: The Inspector   \n",
            "2165                                Sei Juushi Bismarck   \n",
            "2828                            Aldnoah.Zero 2nd Season   \n",
            "\n",
            "                                     genre  rating  \n",
            "4540  Action, Comedy, Mecha, Sci-Fi, Space    6.70  \n",
            "1906          Action, Mecha, Sci-Fi, Space    7.41  \n",
            "2130          Action, Mecha, Sci-Fi, Space    7.35  \n",
            "2165          Action, Mecha, Sci-Fi, Space    7.34  \n",
            "2828          Action, Mecha, Sci-Fi, Space    7.15  \n"
          ]
        }
      ]
    },
    {
      "cell_type": "markdown",
      "source": [
        "## Interview Questions\n",
        "\n",
        "### 1. **Can you explain the difference between user-based and item-based collaborative filtering?**\n",
        "\n",
        "**Answer:**\n",
        "User-based collaborative filtering recommends items by finding similar users. It assumes that if two users have rated similar items similarly in the past, they will likely agree in the future too. So, it recommends what similar users liked.\n",
        "\n",
        "Item-based collaborative filtering recommends items by finding similar items. It assumes that if a user liked item A, they will also like item B if item A and B are rated similarly by other users.\n",
        "\n",
        "- **User-Based**: \"People similar to you also liked this.\"\n",
        "- **Item-Based**: \"People who liked this item also liked that item.\"\n",
        "\n",
        "---\n",
        "\n",
        "### 2. **What is collaborative filtering, and how does it work?**\n",
        "\n",
        "**Answer:**\n",
        "Collaborative filtering is a recommendation technique that makes predictions about a user's interests by collecting preferences from many users (collaboration). It relies on the assumption that similar users will like similar items.\n",
        "\n",
        "There are two main types:\n",
        "- **User-Based Filtering**: Finds users similar to the target user and recommends items they liked.\n",
        "- **Item-Based Filtering**: Finds items similar to what the user already liked and recommends those.\n",
        "\n",
        "Collaborative filtering doesn’t require content about the items themselves—only user interaction data like ratings or behavior.\n",
        "\n"
      ],
      "metadata": {
        "id": "e8xrFMSKhhMJ"
      }
    }
  ]
}