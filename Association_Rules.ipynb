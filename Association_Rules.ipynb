{
  "nbformat": 4,
  "nbformat_minor": 0,
  "metadata": {
    "colab": {
      "provenance": []
    },
    "kernelspec": {
      "name": "python3",
      "display_name": "Python 3"
    },
    "language_info": {
      "name": "python"
    }
  },
  "cells": [
    {
      "cell_type": "code",
      "source": [
        "pip install pandas mlxtend openpyxl\n"
      ],
      "metadata": {
        "colab": {
          "base_uri": "https://localhost:8080/"
        },
        "id": "XYcXXsz8GTEb",
        "outputId": "33ebb14e-fc41-4add-f11d-0d6675c6b42d"
      },
      "execution_count": 5,
      "outputs": [
        {
          "output_type": "stream",
          "name": "stdout",
          "text": [
            "Requirement already satisfied: pandas in /usr/local/lib/python3.11/dist-packages (2.2.2)\n",
            "Requirement already satisfied: mlxtend in /usr/local/lib/python3.11/dist-packages (0.23.4)\n",
            "Requirement already satisfied: openpyxl in /usr/local/lib/python3.11/dist-packages (3.1.5)\n",
            "Requirement already satisfied: numpy>=1.23.2 in /usr/local/lib/python3.11/dist-packages (from pandas) (2.0.2)\n",
            "Requirement already satisfied: python-dateutil>=2.8.2 in /usr/local/lib/python3.11/dist-packages (from pandas) (2.9.0.post0)\n",
            "Requirement already satisfied: pytz>=2020.1 in /usr/local/lib/python3.11/dist-packages (from pandas) (2025.2)\n",
            "Requirement already satisfied: tzdata>=2022.7 in /usr/local/lib/python3.11/dist-packages (from pandas) (2025.2)\n",
            "Requirement already satisfied: scipy>=1.2.1 in /usr/local/lib/python3.11/dist-packages (from mlxtend) (1.15.2)\n",
            "Requirement already satisfied: scikit-learn>=1.3.1 in /usr/local/lib/python3.11/dist-packages (from mlxtend) (1.6.1)\n",
            "Requirement already satisfied: matplotlib>=3.0.0 in /usr/local/lib/python3.11/dist-packages (from mlxtend) (3.10.0)\n",
            "Requirement already satisfied: joblib>=0.13.2 in /usr/local/lib/python3.11/dist-packages (from mlxtend) (1.4.2)\n",
            "Requirement already satisfied: et-xmlfile in /usr/local/lib/python3.11/dist-packages (from openpyxl) (2.0.0)\n",
            "Requirement already satisfied: contourpy>=1.0.1 in /usr/local/lib/python3.11/dist-packages (from matplotlib>=3.0.0->mlxtend) (1.3.2)\n",
            "Requirement already satisfied: cycler>=0.10 in /usr/local/lib/python3.11/dist-packages (from matplotlib>=3.0.0->mlxtend) (0.12.1)\n",
            "Requirement already satisfied: fonttools>=4.22.0 in /usr/local/lib/python3.11/dist-packages (from matplotlib>=3.0.0->mlxtend) (4.57.0)\n",
            "Requirement already satisfied: kiwisolver>=1.3.1 in /usr/local/lib/python3.11/dist-packages (from matplotlib>=3.0.0->mlxtend) (1.4.8)\n",
            "Requirement already satisfied: packaging>=20.0 in /usr/local/lib/python3.11/dist-packages (from matplotlib>=3.0.0->mlxtend) (24.2)\n",
            "Requirement already satisfied: pillow>=8 in /usr/local/lib/python3.11/dist-packages (from matplotlib>=3.0.0->mlxtend) (11.2.1)\n",
            "Requirement already satisfied: pyparsing>=2.3.1 in /usr/local/lib/python3.11/dist-packages (from matplotlib>=3.0.0->mlxtend) (3.2.3)\n",
            "Requirement already satisfied: six>=1.5 in /usr/local/lib/python3.11/dist-packages (from python-dateutil>=2.8.2->pandas) (1.17.0)\n",
            "Requirement already satisfied: threadpoolctl>=3.1.0 in /usr/local/lib/python3.11/dist-packages (from scikit-learn>=1.3.1->mlxtend) (3.6.0)\n"
          ]
        }
      ]
    },
    {
      "cell_type": "code",
      "source": [
        "import pandas as pd\n",
        "from mlxtend.preprocessing import TransactionEncoder\n",
        "from mlxtend.frequent_patterns import apriori, association_rules\n",
        "\n",
        "# Load the dataset\n",
        "df = pd.read_excel(\"Online retail.xlsx\")\n",
        "\n",
        "# Convert each transaction string to a list\n",
        "transactions = df.iloc[:, 0].apply(lambda x: x.split(','))\n",
        "\n",
        "# One-hot encode\n",
        "te = TransactionEncoder()\n",
        "te_ary = te.fit(transactions).transform(transactions)\n",
        "df_encoded = pd.DataFrame(te_ary, columns=te.columns_)\n",
        "\n",
        "# Apply Apriori\n",
        "frequent_itemsets = apriori(df_encoded, min_support=0.02, use_colnames=True)\n",
        "\n",
        "# Generate association rules\n",
        "rules = association_rules(frequent_itemsets, metric=\"lift\", min_threshold=1.0)\n",
        "\n",
        "# Filter rules\n",
        "filtered_rules = rules[(rules['confidence'] >= 0.3) & (rules['lift'] > 1)]\n",
        "\n",
        "# Display top rules\n",
        "print(filtered_rules.sort_values(by=\"lift\", ascending=False).head(10))\n",
        "\n",
        "# Display top 10 rules sorted by lift\n",
        "print(filtered_rules.sort_values(by=\"lift\", ascending=False).head(10))\n",
        "\n",
        "filtered_rules = rules[(rules['confidence'] >= 0.3) & (rules['lift'] > 1)]\n"
      ],
      "metadata": {
        "colab": {
          "base_uri": "https://localhost:8080/"
        },
        "id": "IdL-5JoQGYfH",
        "outputId": "5ff7de25-d93c-49c8-86cc-d7140ddb944b"
      },
      "execution_count": 6,
      "outputs": [
        {
          "output_type": "stream",
          "name": "stdout",
          "text": [
            "            antecedents      consequents  antecedent support  \\\n",
            "66        (ground beef)      (spaghetti)            0.098267   \n",
            "88          (olive oil)      (spaghetti)            0.065733   \n",
            "81               (soup)  (mineral water)            0.050533   \n",
            "1             (burgers)           (eggs)            0.087200   \n",
            "94           (tomatoes)      (spaghetti)            0.068400   \n",
            "75          (olive oil)  (mineral water)            0.065733   \n",
            "65        (ground beef)  (mineral water)            0.098267   \n",
            "29        (cooking oil)  (mineral water)            0.051067   \n",
            "11            (chicken)  (mineral water)            0.060000   \n",
            "57  (frozen vegetables)  (mineral water)            0.095333   \n",
            "\n",
            "    consequent support   support  confidence      lift  representativity  \\\n",
            "66            0.174133  0.039200    0.398915  2.290857               1.0   \n",
            "88            0.174133  0.022933    0.348884  2.003547               1.0   \n",
            "81            0.238267  0.023067    0.456464  1.915771               1.0   \n",
            "1             0.179733  0.028800    0.330275  1.837585               1.0   \n",
            "94            0.174133  0.020933    0.306043  1.757520               1.0   \n",
            "75            0.238267  0.027467    0.417850  1.753707               1.0   \n",
            "65            0.238267  0.040933    0.416554  1.748266               1.0   \n",
            "29            0.238267  0.020133    0.394256  1.654683               1.0   \n",
            "11            0.238267  0.022800    0.380000  1.594852               1.0   \n",
            "57            0.238267  0.035733    0.374825  1.573133               1.0   \n",
            "\n",
            "    leverage  conviction  zhangs_metric   jaccard  certainty  kulczynski  \n",
            "66  0.022088    1.373959       0.624888  0.168096   0.272176    0.312015  \n",
            "88  0.011487    1.268387       0.536127  0.105716   0.211597    0.240292  \n",
            "81  0.011026    1.401441       0.503458  0.086804   0.286449    0.276637  \n",
            "1   0.013127    1.224782       0.499351  0.120941   0.183528    0.245256  \n",
            "94  0.009023    1.190083       0.462663  0.094465   0.159723    0.213129  \n",
            "75  0.011805    1.308483       0.460018  0.099325   0.235756    0.266563  \n",
            "65  0.017520    1.305576       0.474647  0.138475   0.234054    0.294175  \n",
            "29  0.007966    1.257517       0.416947  0.074789   0.204782    0.239378  \n",
            "11  0.008504    1.228602       0.396790  0.082769   0.186067    0.237846  \n",
            "57  0.013019    1.218433       0.402718  0.119964   0.179273    0.262399  \n",
            "            antecedents      consequents  antecedent support  \\\n",
            "66        (ground beef)      (spaghetti)            0.098267   \n",
            "88          (olive oil)      (spaghetti)            0.065733   \n",
            "81               (soup)  (mineral water)            0.050533   \n",
            "1             (burgers)           (eggs)            0.087200   \n",
            "94           (tomatoes)      (spaghetti)            0.068400   \n",
            "75          (olive oil)  (mineral water)            0.065733   \n",
            "65        (ground beef)  (mineral water)            0.098267   \n",
            "29        (cooking oil)  (mineral water)            0.051067   \n",
            "11            (chicken)  (mineral water)            0.060000   \n",
            "57  (frozen vegetables)  (mineral water)            0.095333   \n",
            "\n",
            "    consequent support   support  confidence      lift  representativity  \\\n",
            "66            0.174133  0.039200    0.398915  2.290857               1.0   \n",
            "88            0.174133  0.022933    0.348884  2.003547               1.0   \n",
            "81            0.238267  0.023067    0.456464  1.915771               1.0   \n",
            "1             0.179733  0.028800    0.330275  1.837585               1.0   \n",
            "94            0.174133  0.020933    0.306043  1.757520               1.0   \n",
            "75            0.238267  0.027467    0.417850  1.753707               1.0   \n",
            "65            0.238267  0.040933    0.416554  1.748266               1.0   \n",
            "29            0.238267  0.020133    0.394256  1.654683               1.0   \n",
            "11            0.238267  0.022800    0.380000  1.594852               1.0   \n",
            "57            0.238267  0.035733    0.374825  1.573133               1.0   \n",
            "\n",
            "    leverage  conviction  zhangs_metric   jaccard  certainty  kulczynski  \n",
            "66  0.022088    1.373959       0.624888  0.168096   0.272176    0.312015  \n",
            "88  0.011487    1.268387       0.536127  0.105716   0.211597    0.240292  \n",
            "81  0.011026    1.401441       0.503458  0.086804   0.286449    0.276637  \n",
            "1   0.013127    1.224782       0.499351  0.120941   0.183528    0.245256  \n",
            "94  0.009023    1.190083       0.462663  0.094465   0.159723    0.213129  \n",
            "75  0.011805    1.308483       0.460018  0.099325   0.235756    0.266563  \n",
            "65  0.017520    1.305576       0.474647  0.138475   0.234054    0.294175  \n",
            "29  0.007966    1.257517       0.416947  0.074789   0.204782    0.239378  \n",
            "11  0.008504    1.228602       0.396790  0.082769   0.186067    0.237846  \n",
            "57  0.013019    1.218433       0.402718  0.119964   0.179273    0.262399  \n"
          ]
        }
      ]
    },
    {
      "cell_type": "code",
      "source": [],
      "metadata": {
        "id": "_4eZNRkuGi5R"
      },
      "execution_count": 6,
      "outputs": []
    },
    {
      "cell_type": "markdown",
      "metadata": {
        "id": "95lv225TG1j-"
      },
      "source": [
        "### 📊 Rule Visualization: Top 10 Rules by Lift"
      ]
    },
    {
      "cell_type": "code",
      "metadata": {
        "colab": {
          "base_uri": "https://localhost:8080/",
          "height": 607
        },
        "id": "EVxiAHXfG1kA",
        "outputId": "49a70e58-3aa3-4f70-9429-4b144fe0f545"
      },
      "source": [
        "import matplotlib.pyplot as plt\n",
        "import seaborn as sns\n",
        "\n",
        "# Convert frozensets to strings for better readability\n",
        "rules['antecedents'] = rules['antecedents'].apply(lambda x: ', '.join(list(x)))\n",
        "rules['consequents'] = rules['consequents'].apply(lambda x: ', '.join(list(x)))\n",
        "\n",
        "# Top 10 rules by lift\n",
        "top_rules = rules.sort_values('lift', ascending=False).head(10)\n",
        "plt.figure(figsize=(10,6))\n",
        "sns.barplot(x='lift', y='consequents', data=top_rules)\n",
        "plt.title('Top 10 Rules by Lift')\n",
        "plt.xlabel('Lift')\n",
        "plt.ylabel('Consequents')\n",
        "plt.tight_layout()\n",
        "plt.show()"
      ],
      "execution_count": 7,
      "outputs": [
        {
          "output_type": "display_data",
          "data": {
            "text/plain": [
              "<Figure size 1000x600 with 1 Axes>"
            ],
            "image/png": "[encoded data removed]"
          },
          "metadata": {}
        }
      ]
    },
    {
      "cell_type": "code",
      "source": [
        "# Display top 10 rules sorted by lift\n",
        "print(filtered_rules.sort_values(by=\"lift\", ascending=False).head(10))\n"
      ],
      "metadata": {
        "id": "aucXP16-HVbC",
        "colab": {
          "base_uri": "https://localhost:8080/"
        },
        "outputId": "7d556e01-9ce3-452e-a96a-2103054ce451"
      },
      "execution_count": 8,
      "outputs": [
        {
          "output_type": "stream",
          "name": "stdout",
          "text": [
            "            antecedents      consequents  antecedent support  \\\n",
            "66        (ground beef)      (spaghetti)            0.098267   \n",
            "88          (olive oil)      (spaghetti)            0.065733   \n",
            "81               (soup)  (mineral water)            0.050533   \n",
            "1             (burgers)           (eggs)            0.087200   \n",
            "94           (tomatoes)      (spaghetti)            0.068400   \n",
            "75          (olive oil)  (mineral water)            0.065733   \n",
            "65        (ground beef)  (mineral water)            0.098267   \n",
            "29        (cooking oil)  (mineral water)            0.051067   \n",
            "11            (chicken)  (mineral water)            0.060000   \n",
            "57  (frozen vegetables)  (mineral water)            0.095333   \n",
            "\n",
            "    consequent support   support  confidence      lift  representativity  \\\n",
            "66            0.174133  0.039200    0.398915  2.290857               1.0   \n",
            "88            0.174133  0.022933    0.348884  2.003547               1.0   \n",
            "81            0.238267  0.023067    0.456464  1.915771               1.0   \n",
            "1             0.179733  0.028800    0.330275  1.837585               1.0   \n",
            "94            0.174133  0.020933    0.306043  1.757520               1.0   \n",
            "75            0.238267  0.027467    0.417850  1.753707               1.0   \n",
            "65            0.238267  0.040933    0.416554  1.748266               1.0   \n",
            "29            0.238267  0.020133    0.394256  1.654683               1.0   \n",
            "11            0.238267  0.022800    0.380000  1.594852               1.0   \n",
            "57            0.238267  0.035733    0.374825  1.573133               1.0   \n",
            "\n",
            "    leverage  conviction  zhangs_metric   jaccard  certainty  kulczynski  \n",
            "66  0.022088    1.373959       0.624888  0.168096   0.272176    0.312015  \n",
            "88  0.011487    1.268387       0.536127  0.105716   0.211597    0.240292  \n",
            "81  0.011026    1.401441       0.503458  0.086804   0.286449    0.276637  \n",
            "1   0.013127    1.224782       0.499351  0.120941   0.183528    0.245256  \n",
            "94  0.009023    1.190083       0.462663  0.094465   0.159723    0.213129  \n",
            "75  0.011805    1.308483       0.460018  0.099325   0.235756    0.266563  \n",
            "65  0.017520    1.305576       0.474647  0.138475   0.234054    0.294175  \n",
            "29  0.007966    1.257517       0.416947  0.074789   0.204782    0.239378  \n",
            "11  0.008504    1.228602       0.396790  0.082769   0.186067    0.237846  \n",
            "57  0.013019    1.218433       0.402718  0.119964   0.179273    0.262399  \n"
          ]
        }
      ]
    },
    {
      "source": [
        "filtered_rules = rules[(rules['confidence'] >= 0.3) & (rules['lift'] > 1)]\n",
        "top10 = filtered_rules.sort_values(by=\"lift\", ascending=False).head(10)\n",
        "print(top10[['antecedents', 'consequents', 'support', 'confidence', 'lift']])\n"
      ],
      "cell_type": "code",
      "metadata": {
        "colab": {
          "base_uri": "https://localhost:8080/"
        },
        "id": "s12pp2sFwzZ6",
        "outputId": "5687ef6f-e642-4d66-8489-c94640bf235f"
      },
      "execution_count": 9,
      "outputs": [
        {
          "output_type": "stream",
          "name": "stdout",
          "text": [
            "          antecedents    consequents   support  confidence      lift\n",
            "66        ground beef      spaghetti  0.039200    0.398915  2.290857\n",
            "88          olive oil      spaghetti  0.022933    0.348884  2.003547\n",
            "81               soup  mineral water  0.023067    0.456464  1.915771\n",
            "1             burgers           eggs  0.028800    0.330275  1.837585\n",
            "94           tomatoes      spaghetti  0.020933    0.306043  1.757520\n",
            "75          olive oil  mineral water  0.027467    0.417850  1.753707\n",
            "65        ground beef  mineral water  0.040933    0.416554  1.748266\n",
            "29        cooking oil  mineral water  0.020133    0.394256  1.654683\n",
            "11            chicken  mineral water  0.022800    0.380000  1.594852\n",
            "57  frozen vegetables  mineral water  0.035733    0.374825  1.573133\n"
          ]
        }
      ]
    },
    {
      "cell_type": "code",
      "source": [],
      "metadata": {
        "id": "IVy40yIuxbUC"
      },
      "execution_count": null,
      "outputs": []
    }
  ]
}